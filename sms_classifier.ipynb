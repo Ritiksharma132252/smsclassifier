{
 "cells": [
  {
   "cell_type": "code",
   "execution_count": 2,
   "id": "9eca3419",
   "metadata": {},
   "outputs": [
    {
     "name": "stdout",
     "output_type": "stream",
     "text": [
      "Collecting numpy\n",
      "  Using cached numpy-2.0.2-cp39-cp39-win_amd64.whl.metadata (59 kB)\n",
      "Collecting pandas\n",
      "  Downloading pandas-2.3.2-cp39-cp39-win_amd64.whl.metadata (19 kB)\n",
      "Collecting scikit-learn\n",
      "  Downloading scikit_learn-1.6.1-cp39-cp39-win_amd64.whl.metadata (15 kB)\n",
      "Collecting matplotlib\n",
      "  Using cached matplotlib-3.9.4-cp39-cp39-win_amd64.whl.metadata (11 kB)\n",
      "Collecting seaborn\n",
      "  Using cached seaborn-0.13.2-py3-none-any.whl.metadata (5.4 kB)\n",
      "Requirement already satisfied: python-dateutil>=2.8.2 in c:\\users\\ritik\\anaconda3\\envs\\sms\\lib\\site-packages (from pandas) (2.9.0.post0)\n",
      "Collecting pytz>=2020.1 (from pandas)\n",
      "  Using cached pytz-2025.2-py2.py3-none-any.whl.metadata (22 kB)\n",
      "Collecting tzdata>=2022.7 (from pandas)\n",
      "  Using cached tzdata-2025.2-py2.py3-none-any.whl.metadata (1.4 kB)\n",
      "Collecting scipy>=1.6.0 (from scikit-learn)\n",
      "  Downloading scipy-1.13.1-cp39-cp39-win_amd64.whl.metadata (60 kB)\n",
      "Collecting joblib>=1.2.0 (from scikit-learn)\n",
      "  Using cached joblib-1.5.1-py3-none-any.whl.metadata (5.6 kB)\n",
      "Collecting threadpoolctl>=3.1.0 (from scikit-learn)\n",
      "  Downloading threadpoolctl-3.6.0-py3-none-any.whl.metadata (13 kB)\n",
      "Collecting contourpy>=1.0.1 (from matplotlib)\n",
      "  Using cached contourpy-1.3.0-cp39-cp39-win_amd64.whl.metadata (5.4 kB)\n",
      "Collecting cycler>=0.10 (from matplotlib)\n",
      "  Using cached cycler-0.12.1-py3-none-any.whl.metadata (3.8 kB)\n",
      "Collecting fonttools>=4.22.0 (from matplotlib)\n",
      "  Downloading fonttools-4.59.1-cp39-cp39-win_amd64.whl.metadata (111 kB)\n",
      "Collecting kiwisolver>=1.3.1 (from matplotlib)\n",
      "  Using cached kiwisolver-1.4.7-cp39-cp39-win_amd64.whl.metadata (6.4 kB)\n",
      "Requirement already satisfied: packaging>=20.0 in c:\\users\\ritik\\anaconda3\\envs\\sms\\lib\\site-packages (from matplotlib) (25.0)\n",
      "Collecting pillow>=8 (from matplotlib)\n",
      "  Using cached pillow-11.3.0-cp39-cp39-win_amd64.whl.metadata (9.2 kB)\n",
      "Collecting pyparsing>=2.3.1 (from matplotlib)\n",
      "  Using cached pyparsing-3.2.3-py3-none-any.whl.metadata (5.0 kB)\n",
      "Collecting importlib-resources>=3.2.0 (from matplotlib)\n",
      "  Using cached importlib_resources-6.5.2-py3-none-any.whl.metadata (3.9 kB)\n",
      "Requirement already satisfied: zipp>=3.1.0 in c:\\users\\ritik\\anaconda3\\envs\\sms\\lib\\site-packages (from importlib-resources>=3.2.0->matplotlib) (3.23.0)\n",
      "Requirement already satisfied: six>=1.5 in c:\\users\\ritik\\anaconda3\\envs\\sms\\lib\\site-packages (from python-dateutil>=2.8.2->pandas) (1.17.0)\n",
      "Using cached numpy-2.0.2-cp39-cp39-win_amd64.whl (15.9 MB)\n",
      "Downloading pandas-2.3.2-cp39-cp39-win_amd64.whl (11.3 MB)\n",
      "   ---------------------------------------- 0.0/11.3 MB ? eta -:--:--\n",
      "   -------- ------------------------------- 2.4/11.3 MB 13.4 MB/s eta 0:00:01\n",
      "   ------------------ --------------------- 5.2/11.3 MB 13.9 MB/s eta 0:00:01\n",
      "   ----------------------------- ---------- 8.4/11.3 MB 13.7 MB/s eta 0:00:01\n",
      "   ---------------------------------------  11.3/11.3 MB 13.6 MB/s eta 0:00:01\n",
      "   ---------------------------------------- 11.3/11.3 MB 12.9 MB/s eta 0:00:00\n",
      "Downloading scikit_learn-1.6.1-cp39-cp39-win_amd64.whl (11.2 MB)\n",
      "   ---------------------------------------- 0.0/11.2 MB ? eta -:--:--\n",
      "   ---------- ----------------------------- 2.9/11.2 MB 14.0 MB/s eta 0:00:01\n",
      "   --------------------- ------------------ 6.0/11.2 MB 14.2 MB/s eta 0:00:01\n",
      "   ------------------------------- -------- 8.9/11.2 MB 13.8 MB/s eta 0:00:01\n",
      "   ---------------------------------------  11.0/11.2 MB 13.2 MB/s eta 0:00:01\n",
      "   ---------------------------------------- 11.2/11.2 MB 12.4 MB/s eta 0:00:00\n",
      "Using cached matplotlib-3.9.4-cp39-cp39-win_amd64.whl (7.8 MB)\n",
      "Using cached seaborn-0.13.2-py3-none-any.whl (294 kB)\n",
      "Using cached contourpy-1.3.0-cp39-cp39-win_amd64.whl (211 kB)\n",
      "Using cached cycler-0.12.1-py3-none-any.whl (8.3 kB)\n",
      "Downloading fonttools-4.59.1-cp39-cp39-win_amd64.whl (1.5 MB)\n",
      "   ---------------------------------------- 0.0/1.5 MB ? eta -:--:--\n",
      "   ---------------------------------------- 1.5/1.5 MB 13.5 MB/s eta 0:00:00\n",
      "Using cached importlib_resources-6.5.2-py3-none-any.whl (37 kB)\n",
      "Using cached joblib-1.5.1-py3-none-any.whl (307 kB)\n",
      "Using cached kiwisolver-1.4.7-cp39-cp39-win_amd64.whl (55 kB)\n",
      "Using cached pillow-11.3.0-cp39-cp39-win_amd64.whl (7.0 MB)\n",
      "Using cached pyparsing-3.2.3-py3-none-any.whl (111 kB)\n",
      "Using cached pytz-2025.2-py2.py3-none-any.whl (509 kB)\n",
      "Downloading scipy-1.13.1-cp39-cp39-win_amd64.whl (46.2 MB)\n",
      "   ---------------------------------------- 0.0/46.2 MB ? eta -:--:--\n",
      "   -- ------------------------------------- 3.1/46.2 MB 15.4 MB/s eta 0:00:03\n",
      "   ----- ---------------------------------- 6.3/46.2 MB 14.3 MB/s eta 0:00:03\n",
      "   ------- -------------------------------- 9.2/46.2 MB 14.3 MB/s eta 0:00:03\n",
      "   ---------- ----------------------------- 12.3/46.2 MB 14.3 MB/s eta 0:00:03\n",
      "   ------------- -------------------------- 15.5/46.2 MB 14.1 MB/s eta 0:00:03\n",
      "   --------------- ------------------------ 18.4/46.2 MB 14.1 MB/s eta 0:00:02\n",
      "   ------------------ --------------------- 21.5/46.2 MB 14.2 MB/s eta 0:00:02\n",
      "   --------------------- ------------------ 24.6/46.2 MB 14.1 MB/s eta 0:00:02\n",
      "   ----------------------- ---------------- 27.5/46.2 MB 14.1 MB/s eta 0:00:02\n",
      "   -------------------------- ------------- 30.7/46.2 MB 14.1 MB/s eta 0:00:02\n",
      "   ----------------------------- ---------- 33.6/46.2 MB 14.0 MB/s eta 0:00:01\n",
      "   ------------------------------- -------- 36.4/46.2 MB 14.0 MB/s eta 0:00:01\n",
      "   ---------------------------------- ----- 39.3/46.2 MB 14.0 MB/s eta 0:00:01\n",
      "   ------------------------------------ --- 42.5/46.2 MB 13.9 MB/s eta 0:00:01\n",
      "   ---------------------------------------  45.4/46.2 MB 13.9 MB/s eta 0:00:01\n",
      "   ---------------------------------------- 46.2/46.2 MB 13.5 MB/s eta 0:00:00\n",
      "Downloading threadpoolctl-3.6.0-py3-none-any.whl (18 kB)\n",
      "Using cached tzdata-2025.2-py2.py3-none-any.whl (347 kB)\n",
      "Installing collected packages: pytz, tzdata, threadpoolctl, pyparsing, pillow, numpy, kiwisolver, joblib, importlib-resources, fonttools, cycler, scipy, pandas, contourpy, scikit-learn, matplotlib, seaborn\n",
      "\n",
      "   ----------------------------------------  0/17 [pytz]\n",
      "   ----------------------------------------  0/17 [pytz]\n",
      "   ----------------------------------------  0/17 [pytz]\n",
      "   ----------------------------------------  0/17 [pytz]\n",
      "   ----------------------------------------  0/17 [pytz]\n",
      "   -- -------------------------------------  1/17 [tzdata]\n",
      "   -- -------------------------------------  1/17 [tzdata]\n",
      "   -- -------------------------------------  1/17 [tzdata]\n",
      "   -- -------------------------------------  1/17 [tzdata]\n",
      "   -- -------------------------------------  1/17 [tzdata]\n",
      "   ------- --------------------------------  3/17 [pyparsing]\n",
      "   ------- --------------------------------  3/17 [pyparsing]\n",
      "   --------- ------------------------------  4/17 [pillow]\n",
      "   --------- ------------------------------  4/17 [pillow]\n",
      "   --------- ------------------------------  4/17 [pillow]\n",
      "   --------- ------------------------------  4/17 [pillow]\n",
      "   --------- ------------------------------  4/17 [pillow]\n",
      "   --------- ------------------------------  4/17 [pillow]\n",
      "   ----------- ----------------------------  5/17 [numpy]\n",
      "   ----------- ----------------------------  5/17 [numpy]\n",
      "   ----------- ----------------------------  5/17 [numpy]\n",
      "   ----------- ----------------------------  5/17 [numpy]\n",
      "   ----------- ----------------------------  5/17 [numpy]\n",
      "   ----------- ----------------------------  5/17 [numpy]\n",
      "   ----------- ----------------------------  5/17 [numpy]\n",
      "   ----------- ----------------------------  5/17 [numpy]\n",
      "   ----------- ----------------------------  5/17 [numpy]\n",
      "   ----------- ----------------------------  5/17 [numpy]\n",
      "   ----------- ----------------------------  5/17 [numpy]\n",
      "   ----------- ----------------------------  5/17 [numpy]\n",
      "   ----------- ----------------------------  5/17 [numpy]\n",
      "   ----------- ----------------------------  5/17 [numpy]\n",
      "   ----------- ----------------------------  5/17 [numpy]\n",
      "   ----------- ----------------------------  5/17 [numpy]\n",
      "   ----------- ----------------------------  5/17 [numpy]\n",
      "   ----------- ----------------------------  5/17 [numpy]\n",
      "   ----------- ----------------------------  5/17 [numpy]\n",
      "   ----------- ----------------------------  5/17 [numpy]\n",
      "   ----------- ----------------------------  5/17 [numpy]\n",
      "   ----------- ----------------------------  5/17 [numpy]\n",
      "   ----------- ----------------------------  5/17 [numpy]\n",
      "   ----------- ----------------------------  5/17 [numpy]\n",
      "   ----------- ----------------------------  5/17 [numpy]\n",
      "   ----------- ----------------------------  5/17 [numpy]\n",
      "   ----------- ----------------------------  5/17 [numpy]\n",
      "   ----------- ----------------------------  5/17 [numpy]\n",
      "   ----------- ----------------------------  5/17 [numpy]\n",
      "   ----------- ----------------------------  5/17 [numpy]\n",
      "   ----------- ----------------------------  5/17 [numpy]\n",
      "   ----------- ----------------------------  5/17 [numpy]\n",
      "   ----------- ----------------------------  5/17 [numpy]\n",
      "   ----------- ----------------------------  5/17 [numpy]\n",
      "   ----------- ----------------------------  5/17 [numpy]\n",
      "   ---------------- -----------------------  7/17 [joblib]\n",
      "   ---------------- -----------------------  7/17 [joblib]\n",
      "   ---------------- -----------------------  7/17 [joblib]\n",
      "   ---------------- -----------------------  7/17 [joblib]\n",
      "   ------------------ ---------------------  8/17 [importlib-resources]\n",
      "   --------------------- ------------------  9/17 [fonttools]\n",
      "   --------------------- ------------------  9/17 [fonttools]\n",
      "   --------------------- ------------------  9/17 [fonttools]\n",
      "   --------------------- ------------------  9/17 [fonttools]\n",
      "   --------------------- ------------------  9/17 [fonttools]\n",
      "   --------------------- ------------------  9/17 [fonttools]\n",
      "   --------------------- ------------------  9/17 [fonttools]\n",
      "   --------------------- ------------------  9/17 [fonttools]\n",
      "   --------------------- ------------------  9/17 [fonttools]\n",
      "   --------------------- ------------------  9/17 [fonttools]\n",
      "   --------------------- ------------------  9/17 [fonttools]\n",
      "   --------------------- ------------------  9/17 [fonttools]\n",
      "   --------------------- ------------------  9/17 [fonttools]\n",
      "   --------------------- ------------------  9/17 [fonttools]\n",
      "   --------------------- ------------------  9/17 [fonttools]\n",
      "   --------------------- ------------------  9/17 [fonttools]\n",
      "   --------------------- ------------------  9/17 [fonttools]\n",
      "   ------------------------- -------------- 11/17 [scipy]\n",
      "   ------------------------- -------------- 11/17 [scipy]\n",
      "   ------------------------- -------------- 11/17 [scipy]\n",
      "   ------------------------- -------------- 11/17 [scipy]\n",
      "   ------------------------- -------------- 11/17 [scipy]\n",
      "   ------------------------- -------------- 11/17 [scipy]\n",
      "   ------------------------- -------------- 11/17 [scipy]\n",
      "   ------------------------- -------------- 11/17 [scipy]\n",
      "   ------------------------- -------------- 11/17 [scipy]\n",
      "   ------------------------- -------------- 11/17 [scipy]\n",
      "   ------------------------- -------------- 11/17 [scipy]\n",
      "   ------------------------- -------------- 11/17 [scipy]\n",
      "   ------------------------- -------------- 11/17 [scipy]\n",
      "   ------------------------- -------------- 11/17 [scipy]\n",
      "   ------------------------- -------------- 11/17 [scipy]\n",
      "   ------------------------- -------------- 11/17 [scipy]\n",
      "   ------------------------- -------------- 11/17 [scipy]\n",
      "   ------------------------- -------------- 11/17 [scipy]\n",
      "   ------------------------- -------------- 11/17 [scipy]\n",
      "   ------------------------- -------------- 11/17 [scipy]\n",
      "   ------------------------- -------------- 11/17 [scipy]\n",
      "   ------------------------- -------------- 11/17 [scipy]\n",
      "   ------------------------- -------------- 11/17 [scipy]\n",
      "   ------------------------- -------------- 11/17 [scipy]\n",
      "   ------------------------- -------------- 11/17 [scipy]\n",
      "   ------------------------- -------------- 11/17 [scipy]\n",
      "   ------------------------- -------------- 11/17 [scipy]\n",
      "   ------------------------- -------------- 11/17 [scipy]\n",
      "   ------------------------- -------------- 11/17 [scipy]\n",
      "   ------------------------- -------------- 11/17 [scipy]\n",
      "   ------------------------- -------------- 11/17 [scipy]\n",
      "   ------------------------- -------------- 11/17 [scipy]\n",
      "   ------------------------- -------------- 11/17 [scipy]\n",
      "   ------------------------- -------------- 11/17 [scipy]\n",
      "   ------------------------- -------------- 11/17 [scipy]\n",
      "   ------------------------- -------------- 11/17 [scipy]\n",
      "   ------------------------- -------------- 11/17 [scipy]\n",
      "   ------------------------- -------------- 11/17 [scipy]\n",
      "   ------------------------- -------------- 11/17 [scipy]\n",
      "   ------------------------- -------------- 11/17 [scipy]\n",
      "   ------------------------- -------------- 11/17 [scipy]\n",
      "   ------------------------- -------------- 11/17 [scipy]\n",
      "   ------------------------- -------------- 11/17 [scipy]\n",
      "   ------------------------- -------------- 11/17 [scipy]\n",
      "   ------------------------- -------------- 11/17 [scipy]\n",
      "   ------------------------- -------------- 11/17 [scipy]\n",
      "   ------------------------- -------------- 11/17 [scipy]\n",
      "   ------------------------- -------------- 11/17 [scipy]\n",
      "   ------------------------- -------------- 11/17 [scipy]\n",
      "   ------------------------- -------------- 11/17 [scipy]\n",
      "   ------------------------- -------------- 11/17 [scipy]\n",
      "   ------------------------- -------------- 11/17 [scipy]\n",
      "   ------------------------- -------------- 11/17 [scipy]\n",
      "   ------------------------- -------------- 11/17 [scipy]\n",
      "   ------------------------- -------------- 11/17 [scipy]\n",
      "   ------------------------- -------------- 11/17 [scipy]\n",
      "   ------------------------- -------------- 11/17 [scipy]\n",
      "   ------------------------- -------------- 11/17 [scipy]\n",
      "   ------------------------- -------------- 11/17 [scipy]\n",
      "   ------------------------- -------------- 11/17 [scipy]\n",
      "   ------------------------- -------------- 11/17 [scipy]\n",
      "   ------------------------- -------------- 11/17 [scipy]\n",
      "   ------------------------- -------------- 11/17 [scipy]\n",
      "   ---------------------------- ----------- 12/17 [pandas]\n",
      "   ---------------------------- ----------- 12/17 [pandas]\n",
      "   ---------------------------- ----------- 12/17 [pandas]\n",
      "   ---------------------------- ----------- 12/17 [pandas]\n",
      "   ---------------------------- ----------- 12/17 [pandas]\n",
      "   ---------------------------- ----------- 12/17 [pandas]\n",
      "   ---------------------------- ----------- 12/17 [pandas]\n",
      "   ---------------------------- ----------- 12/17 [pandas]\n",
      "   ---------------------------- ----------- 12/17 [pandas]\n",
      "   ---------------------------- ----------- 12/17 [pandas]\n",
      "   ---------------------------- ----------- 12/17 [pandas]\n",
      "   ---------------------------- ----------- 12/17 [pandas]\n",
      "   ---------------------------- ----------- 12/17 [pandas]\n",
      "   ---------------------------- ----------- 12/17 [pandas]\n",
      "   ---------------------------- ----------- 12/17 [pandas]\n",
      "   ---------------------------- ----------- 12/17 [pandas]\n",
      "   ---------------------------- ----------- 12/17 [pandas]\n",
      "   ---------------------------- ----------- 12/17 [pandas]\n",
      "   ---------------------------- ----------- 12/17 [pandas]\n",
      "   ---------------------------- ----------- 12/17 [pandas]\n",
      "   ---------------------------- ----------- 12/17 [pandas]\n",
      "   ---------------------------- ----------- 12/17 [pandas]\n",
      "   ---------------------------- ----------- 12/17 [pandas]\n",
      "   ---------------------------- ----------- 12/17 [pandas]\n",
      "   ---------------------------- ----------- 12/17 [pandas]\n",
      "   ---------------------------- ----------- 12/17 [pandas]\n",
      "   ---------------------------- ----------- 12/17 [pandas]\n",
      "   ---------------------------- ----------- 12/17 [pandas]\n",
      "   ---------------------------- ----------- 12/17 [pandas]\n",
      "   ---------------------------- ----------- 12/17 [pandas]\n",
      "   ---------------------------- ----------- 12/17 [pandas]\n",
      "   ---------------------------- ----------- 12/17 [pandas]\n",
      "   ---------------------------- ----------- 12/17 [pandas]\n",
      "   ---------------------------- ----------- 12/17 [pandas]\n",
      "   ---------------------------- ----------- 12/17 [pandas]\n",
      "   ---------------------------- ----------- 12/17 [pandas]\n",
      "   ---------------------------- ----------- 12/17 [pandas]\n",
      "   ---------------------------- ----------- 12/17 [pandas]\n",
      "   ---------------------------- ----------- 12/17 [pandas]\n",
      "   ---------------------------- ----------- 12/17 [pandas]\n",
      "   ---------------------------- ----------- 12/17 [pandas]\n",
      "   ---------------------------- ----------- 12/17 [pandas]\n",
      "   ---------------------------- ----------- 12/17 [pandas]\n",
      "   ---------------------------- ----------- 12/17 [pandas]\n",
      "   ---------------------------- ----------- 12/17 [pandas]\n",
      "   ---------------------------- ----------- 12/17 [pandas]\n",
      "   ---------------------------- ----------- 12/17 [pandas]\n",
      "   ---------------------------- ----------- 12/17 [pandas]\n",
      "   ---------------------------- ----------- 12/17 [pandas]\n",
      "   ---------------------------- ----------- 12/17 [pandas]\n",
      "   ---------------------------- ----------- 12/17 [pandas]\n",
      "   ---------------------------- ----------- 12/17 [pandas]\n",
      "   ---------------------------- ----------- 12/17 [pandas]\n",
      "   ---------------------------- ----------- 12/17 [pandas]\n",
      "   ---------------------------- ----------- 12/17 [pandas]\n",
      "   ---------------------------- ----------- 12/17 [pandas]\n",
      "   ---------------------------- ----------- 12/17 [pandas]\n",
      "   ---------------------------- ----------- 12/17 [pandas]\n",
      "   ---------------------------- ----------- 12/17 [pandas]\n",
      "   ---------------------------- ----------- 12/17 [pandas]\n",
      "   ---------------------------- ----------- 12/17 [pandas]\n",
      "   ---------------------------- ----------- 12/17 [pandas]\n",
      "   ---------------------------- ----------- 12/17 [pandas]\n",
      "   ---------------------------- ----------- 12/17 [pandas]\n",
      "   ---------------------------- ----------- 12/17 [pandas]\n",
      "   ---------------------------- ----------- 12/17 [pandas]\n",
      "   ---------------------------- ----------- 12/17 [pandas]\n",
      "   ---------------------------- ----------- 12/17 [pandas]\n",
      "   ---------------------------- ----------- 12/17 [pandas]\n",
      "   ---------------------------- ----------- 12/17 [pandas]\n",
      "   ---------------------------- ----------- 12/17 [pandas]\n",
      "   ---------------------------- ----------- 12/17 [pandas]\n",
      "   ---------------------------- ----------- 12/17 [pandas]\n",
      "   ---------------------------- ----------- 12/17 [pandas]\n",
      "   ---------------------------- ----------- 12/17 [pandas]\n",
      "   ---------------------------- ----------- 12/17 [pandas]\n",
      "   ---------------------------- ----------- 12/17 [pandas]\n",
      "   ---------------------------- ----------- 12/17 [pandas]\n",
      "   ---------------------------- ----------- 12/17 [pandas]\n",
      "   ---------------------------- ----------- 12/17 [pandas]\n",
      "   -------------------------------- ------- 14/17 [scikit-learn]\n",
      "   -------------------------------- ------- 14/17 [scikit-learn]\n",
      "   -------------------------------- ------- 14/17 [scikit-learn]\n",
      "   -------------------------------- ------- 14/17 [scikit-learn]\n",
      "   -------------------------------- ------- 14/17 [scikit-learn]\n",
      "   -------------------------------- ------- 14/17 [scikit-learn]\n",
      "   -------------------------------- ------- 14/17 [scikit-learn]\n",
      "   -------------------------------- ------- 14/17 [scikit-learn]\n",
      "   -------------------------------- ------- 14/17 [scikit-learn]\n",
      "   -------------------------------- ------- 14/17 [scikit-learn]\n",
      "   -------------------------------- ------- 14/17 [scikit-learn]\n",
      "   -------------------------------- ------- 14/17 [scikit-learn]\n",
      "   -------------------------------- ------- 14/17 [scikit-learn]\n",
      "   -------------------------------- ------- 14/17 [scikit-learn]\n",
      "   -------------------------------- ------- 14/17 [scikit-learn]\n",
      "   -------------------------------- ------- 14/17 [scikit-learn]\n",
      "   -------------------------------- ------- 14/17 [scikit-learn]\n",
      "   -------------------------------- ------- 14/17 [scikit-learn]\n",
      "   -------------------------------- ------- 14/17 [scikit-learn]\n",
      "   -------------------------------- ------- 14/17 [scikit-learn]\n",
      "   -------------------------------- ------- 14/17 [scikit-learn]\n",
      "   -------------------------------- ------- 14/17 [scikit-learn]\n",
      "   -------------------------------- ------- 14/17 [scikit-learn]\n",
      "   -------------------------------- ------- 14/17 [scikit-learn]\n",
      "   -------------------------------- ------- 14/17 [scikit-learn]\n",
      "   -------------------------------- ------- 14/17 [scikit-learn]\n",
      "   -------------------------------- ------- 14/17 [scikit-learn]\n",
      "   -------------------------------- ------- 14/17 [scikit-learn]\n",
      "   -------------------------------- ------- 14/17 [scikit-learn]\n",
      "   -------------------------------- ------- 14/17 [scikit-learn]\n",
      "   -------------------------------- ------- 14/17 [scikit-learn]\n",
      "   -------------------------------- ------- 14/17 [scikit-learn]\n",
      "   -------------------------------- ------- 14/17 [scikit-learn]\n",
      "   -------------------------------- ------- 14/17 [scikit-learn]\n",
      "   -------------------------------- ------- 14/17 [scikit-learn]\n",
      "   -------------------------------- ------- 14/17 [scikit-learn]\n",
      "   ----------------------------------- ---- 15/17 [matplotlib]\n",
      "   ----------------------------------- ---- 15/17 [matplotlib]\n",
      "   ----------------------------------- ---- 15/17 [matplotlib]\n",
      "   ----------------------------------- ---- 15/17 [matplotlib]\n",
      "   ----------------------------------- ---- 15/17 [matplotlib]\n",
      "   ----------------------------------- ---- 15/17 [matplotlib]\n",
      "   ----------------------------------- ---- 15/17 [matplotlib]\n",
      "   ----------------------------------- ---- 15/17 [matplotlib]\n",
      "   ----------------------------------- ---- 15/17 [matplotlib]\n",
      "   ----------------------------------- ---- 15/17 [matplotlib]\n",
      "   ----------------------------------- ---- 15/17 [matplotlib]\n",
      "   ----------------------------------- ---- 15/17 [matplotlib]\n",
      "   ----------------------------------- ---- 15/17 [matplotlib]\n",
      "   ----------------------------------- ---- 15/17 [matplotlib]\n",
      "   ----------------------------------- ---- 15/17 [matplotlib]\n",
      "   ----------------------------------- ---- 15/17 [matplotlib]\n",
      "   ----------------------------------- ---- 15/17 [matplotlib]\n",
      "   ----------------------------------- ---- 15/17 [matplotlib]\n",
      "   ----------------------------------- ---- 15/17 [matplotlib]\n",
      "   ----------------------------------- ---- 15/17 [matplotlib]\n",
      "   ----------------------------------- ---- 15/17 [matplotlib]\n",
      "   ------------------------------------- -- 16/17 [seaborn]\n",
      "   ------------------------------------- -- 16/17 [seaborn]\n",
      "   ------------------------------------- -- 16/17 [seaborn]\n",
      "   ------------------------------------- -- 16/17 [seaborn]\n",
      "   ---------------------------------------- 17/17 [seaborn]\n",
      "\n",
      "Successfully installed contourpy-1.3.0 cycler-0.12.1 fonttools-4.59.1 importlib-resources-6.5.2 joblib-1.5.1 kiwisolver-1.4.7 matplotlib-3.9.4 numpy-2.0.2 pandas-2.3.2 pillow-11.3.0 pyparsing-3.2.3 pytz-2025.2 scikit-learn-1.6.1 scipy-1.13.1 seaborn-0.13.2 threadpoolctl-3.6.0 tzdata-2025.2\n"
     ]
    }
   ],
   "source": [
    "!pip install numpy pandas scikit-learn matplotlib seaborn "
   ]
  },
  {
   "cell_type": "code",
   "execution_count": 3,
   "id": "829eafd3",
   "metadata": {},
   "outputs": [
    {
     "data": {
      "text/plain": [
       "<bound method DataFrame.info of         v1                                                 v2 Unnamed: 2  \\\n",
       "0      ham  Go until jurong point, crazy.. Available only ...        NaN   \n",
       "1      ham                      Ok lar... Joking wif u oni...        NaN   \n",
       "2     spam  Free entry in 2 a wkly comp to win FA Cup fina...        NaN   \n",
       "3      ham  U dun say so early hor... U c already then say...        NaN   \n",
       "4      ham  Nah I don't think he goes to usf, he lives aro...        NaN   \n",
       "...    ...                                                ...        ...   \n",
       "5567  spam  This is the 2nd time we have tried 2 contact u...        NaN   \n",
       "5568   ham              Will Ì_ b going to esplanade fr home?        NaN   \n",
       "5569   ham  Pity, * was in mood for that. So...any other s...        NaN   \n",
       "5570   ham  The guy did some bitching but I acted like i'd...        NaN   \n",
       "5571   ham                         Rofl. Its true to its name        NaN   \n",
       "\n",
       "     Unnamed: 3 Unnamed: 4  \n",
       "0           NaN        NaN  \n",
       "1           NaN        NaN  \n",
       "2           NaN        NaN  \n",
       "3           NaN        NaN  \n",
       "4           NaN        NaN  \n",
       "...         ...        ...  \n",
       "5567        NaN        NaN  \n",
       "5568        NaN        NaN  \n",
       "5569        NaN        NaN  \n",
       "5570        NaN        NaN  \n",
       "5571        NaN        NaN  \n",
       "\n",
       "[5572 rows x 5 columns]>"
      ]
     },
     "execution_count": 3,
     "metadata": {},
     "output_type": "execute_result"
    }
   ],
   "source": [
    "import numpy as np \n",
    "import pandas as pd\n",
    "\n",
    "df=pd.read_csv(\"spam.csv\", encoding= \"ISO-8859-1\")\n",
    "\n",
    "df.info"
   ]
  },
  {
   "cell_type": "code",
   "execution_count": 6,
   "id": "c969f684",
   "metadata": {},
   "outputs": [],
   "source": [
    "df.drop(['Unnamed: 3',\"Unnamed: 2\",\"Unnamed: 4\"],axis=1, inplace=True)"
   ]
  },
  {
   "cell_type": "code",
   "execution_count": 7,
   "id": "43532788",
   "metadata": {},
   "outputs": [
    {
     "data": {
      "text/html": [
       "<div>\n",
       "<style scoped>\n",
       "    .dataframe tbody tr th:only-of-type {\n",
       "        vertical-align: middle;\n",
       "    }\n",
       "\n",
       "    .dataframe tbody tr th {\n",
       "        vertical-align: top;\n",
       "    }\n",
       "\n",
       "    .dataframe thead th {\n",
       "        text-align: right;\n",
       "    }\n",
       "</style>\n",
       "<table border=\"1\" class=\"dataframe\">\n",
       "  <thead>\n",
       "    <tr style=\"text-align: right;\">\n",
       "      <th></th>\n",
       "      <th>v1</th>\n",
       "      <th>v2</th>\n",
       "    </tr>\n",
       "  </thead>\n",
       "  <tbody>\n",
       "    <tr>\n",
       "      <th>614</th>\n",
       "      <td>ham</td>\n",
       "      <td>I called and said all to him:)then he have to ...</td>\n",
       "    </tr>\n",
       "    <tr>\n",
       "      <th>2662</th>\n",
       "      <td>spam</td>\n",
       "      <td>Hello darling how are you today? I would love ...</td>\n",
       "    </tr>\n",
       "    <tr>\n",
       "      <th>139</th>\n",
       "      <td>ham</td>\n",
       "      <td>Got c... I lazy to type... I forgot Ì_ in lect...</td>\n",
       "    </tr>\n",
       "    <tr>\n",
       "      <th>957</th>\n",
       "      <td>ham</td>\n",
       "      <td>Welp apparently he retired</td>\n",
       "    </tr>\n",
       "    <tr>\n",
       "      <th>2739</th>\n",
       "      <td>ham</td>\n",
       "      <td>Are you this much buzy</td>\n",
       "    </tr>\n",
       "  </tbody>\n",
       "</table>\n",
       "</div>"
      ],
      "text/plain": [
       "        v1                                                 v2\n",
       "614    ham  I called and said all to him:)then he have to ...\n",
       "2662  spam  Hello darling how are you today? I would love ...\n",
       "139    ham  Got c... I lazy to type... I forgot Ì_ in lect...\n",
       "957    ham                         Welp apparently he retired\n",
       "2739   ham                             Are you this much buzy"
      ]
     },
     "execution_count": 7,
     "metadata": {},
     "output_type": "execute_result"
    }
   ],
   "source": [
    "df.sample(5)"
   ]
  },
  {
   "cell_type": "code",
   "execution_count": 9,
   "id": "f783e49b",
   "metadata": {},
   "outputs": [],
   "source": [
    "df.rename(columns={\"v1\":\"target\",\"v2\":\"text\"},inplace=True)\n"
   ]
  },
  {
   "cell_type": "code",
   "execution_count": 10,
   "id": "37993945",
   "metadata": {},
   "outputs": [
    {
     "data": {
      "text/html": [
       "<div>\n",
       "<style scoped>\n",
       "    .dataframe tbody tr th:only-of-type {\n",
       "        vertical-align: middle;\n",
       "    }\n",
       "\n",
       "    .dataframe tbody tr th {\n",
       "        vertical-align: top;\n",
       "    }\n",
       "\n",
       "    .dataframe thead th {\n",
       "        text-align: right;\n",
       "    }\n",
       "</style>\n",
       "<table border=\"1\" class=\"dataframe\">\n",
       "  <thead>\n",
       "    <tr style=\"text-align: right;\">\n",
       "      <th></th>\n",
       "      <th>target</th>\n",
       "      <th>text</th>\n",
       "    </tr>\n",
       "  </thead>\n",
       "  <tbody>\n",
       "    <tr>\n",
       "      <th>166</th>\n",
       "      <td>spam</td>\n",
       "      <td>URGENT! We are trying to contact you. Last wee...</td>\n",
       "    </tr>\n",
       "    <tr>\n",
       "      <th>4577</th>\n",
       "      <td>spam</td>\n",
       "      <td>Urgent! call 09066350750 from your landline. Y...</td>\n",
       "    </tr>\n",
       "    <tr>\n",
       "      <th>3850</th>\n",
       "      <td>ham</td>\n",
       "      <td>We have all rounder:)so not required:)</td>\n",
       "    </tr>\n",
       "    <tr>\n",
       "      <th>444</th>\n",
       "      <td>ham</td>\n",
       "      <td>\\HEY HEY WERETHE MONKEESPEOPLE SAY WE MONKEYAR...</td>\n",
       "    </tr>\n",
       "    <tr>\n",
       "      <th>4987</th>\n",
       "      <td>ham</td>\n",
       "      <td>Which channel:-):-):):-).</td>\n",
       "    </tr>\n",
       "  </tbody>\n",
       "</table>\n",
       "</div>"
      ],
      "text/plain": [
       "     target                                               text\n",
       "166    spam  URGENT! We are trying to contact you. Last wee...\n",
       "4577   spam  Urgent! call 09066350750 from your landline. Y...\n",
       "3850    ham             We have all rounder:)so not required:)\n",
       "444     ham  \\HEY HEY WERETHE MONKEESPEOPLE SAY WE MONKEYAR...\n",
       "4987    ham                          Which channel:-):-):):-)."
      ]
     },
     "execution_count": 10,
     "metadata": {},
     "output_type": "execute_result"
    }
   ],
   "source": [
    "df.sample(5)"
   ]
  },
  {
   "cell_type": "code",
   "execution_count": 12,
   "id": "1ccdf028",
   "metadata": {},
   "outputs": [],
   "source": [
    "from sklearn.preprocessing import LabelEncoder\n",
    "encoder=LabelEncoder()\n",
    "df[\"target\"]=encoder.fit_transform(df[\"target\"])\n"
   ]
  },
  {
   "cell_type": "code",
   "execution_count": 14,
   "id": "7f316738",
   "metadata": {},
   "outputs": [
    {
     "data": {
      "text/html": [
       "<div>\n",
       "<style scoped>\n",
       "    .dataframe tbody tr th:only-of-type {\n",
       "        vertical-align: middle;\n",
       "    }\n",
       "\n",
       "    .dataframe tbody tr th {\n",
       "        vertical-align: top;\n",
       "    }\n",
       "\n",
       "    .dataframe thead th {\n",
       "        text-align: right;\n",
       "    }\n",
       "</style>\n",
       "<table border=\"1\" class=\"dataframe\">\n",
       "  <thead>\n",
       "    <tr style=\"text-align: right;\">\n",
       "      <th></th>\n",
       "      <th>target</th>\n",
       "      <th>text</th>\n",
       "    </tr>\n",
       "  </thead>\n",
       "  <tbody>\n",
       "    <tr>\n",
       "      <th>4429</th>\n",
       "      <td>0</td>\n",
       "      <td>Yar lor... How u noe? U used dat route too?</td>\n",
       "    </tr>\n",
       "    <tr>\n",
       "      <th>4285</th>\n",
       "      <td>0</td>\n",
       "      <td>Congrats. That's great. I wanted to tell you n...</td>\n",
       "    </tr>\n",
       "    <tr>\n",
       "      <th>4754</th>\n",
       "      <td>0</td>\n",
       "      <td>U wan 2 haf lunch i'm in da canteen now.</td>\n",
       "    </tr>\n",
       "    <tr>\n",
       "      <th>399</th>\n",
       "      <td>0</td>\n",
       "      <td>Hmmm...k...but i want to change the field quic...</td>\n",
       "    </tr>\n",
       "    <tr>\n",
       "      <th>1890</th>\n",
       "      <td>0</td>\n",
       "      <td>Ok but knackered. Just came home and went to s...</td>\n",
       "    </tr>\n",
       "  </tbody>\n",
       "</table>\n",
       "</div>"
      ],
      "text/plain": [
       "      target                                               text\n",
       "4429       0        Yar lor... How u noe? U used dat route too?\n",
       "4285       0  Congrats. That's great. I wanted to tell you n...\n",
       "4754       0           U wan 2 haf lunch i'm in da canteen now.\n",
       "399        0  Hmmm...k...but i want to change the field quic...\n",
       "1890       0  Ok but knackered. Just came home and went to s..."
      ]
     },
     "execution_count": 14,
     "metadata": {},
     "output_type": "execute_result"
    }
   ],
   "source": [
    "df.sample(5)"
   ]
  },
  {
   "cell_type": "code",
   "execution_count": 15,
   "id": "53a8bbb4",
   "metadata": {},
   "outputs": [
    {
     "data": {
      "text/plain": [
       "target    0\n",
       "text      0\n",
       "dtype: int64"
      ]
     },
     "execution_count": 15,
     "metadata": {},
     "output_type": "execute_result"
    }
   ],
   "source": [
    "df.isnull().sum()"
   ]
  },
  {
   "cell_type": "code",
   "execution_count": 16,
   "id": "3a1c4f2c",
   "metadata": {},
   "outputs": [
    {
     "data": {
      "text/plain": [
       "np.int64(403)"
      ]
     },
     "execution_count": 16,
     "metadata": {},
     "output_type": "execute_result"
    }
   ],
   "source": [
    "df.duplicated().sum()"
   ]
  },
  {
   "cell_type": "code",
   "execution_count": 17,
   "id": "d2715577",
   "metadata": {},
   "outputs": [],
   "source": [
    "df=df.drop_duplicates(keep=\"first\")"
   ]
  },
  {
   "cell_type": "code",
   "execution_count": 18,
   "id": "79b4a960",
   "metadata": {},
   "outputs": [
    {
     "data": {
      "text/plain": [
       "(5169, 2)"
      ]
     },
     "execution_count": 18,
     "metadata": {},
     "output_type": "execute_result"
    }
   ],
   "source": [
    "df.shape"
   ]
  },
  {
   "cell_type": "code",
   "execution_count": null,
   "id": "67bbd88d",
   "metadata": {},
   "outputs": [
    {
     "ename": "ValueError",
     "evalue": "'label' must be of length 'x'",
     "output_type": "error",
     "traceback": [
      "\u001b[1;31m---------------------------------------------------------------------------\u001b[0m",
      "\u001b[1;31mValueError\u001b[0m                                Traceback (most recent call last)",
      "Cell \u001b[1;32mIn[21], line 2\u001b[0m\n\u001b[0;32m      1\u001b[0m \u001b[38;5;28;01mimport\u001b[39;00m\u001b[38;5;250m \u001b[39m\u001b[38;5;21;01mmatplotlib\u001b[39;00m\u001b[38;5;21;01m.\u001b[39;00m\u001b[38;5;21;01mpyplot\u001b[39;00m\u001b[38;5;250m \u001b[39m\u001b[38;5;28;01mas\u001b[39;00m\u001b[38;5;250m \u001b[39m\u001b[38;5;21;01mplt\u001b[39;00m \n\u001b[1;32m----> 2\u001b[0m \u001b[43mplt\u001b[49m\u001b[38;5;241;43m.\u001b[39;49m\u001b[43mpie\u001b[49m\u001b[43m(\u001b[49m\u001b[43mdf\u001b[49m\u001b[43m[\u001b[49m\u001b[38;5;124;43m'\u001b[39;49m\u001b[38;5;124;43mtarget\u001b[39;49m\u001b[38;5;124;43m'\u001b[39;49m\u001b[43m]\u001b[49m\u001b[38;5;241;43m.\u001b[39;49m\u001b[43mvalue_counts\u001b[49m\u001b[43m(\u001b[49m\u001b[43m)\u001b[49m\u001b[43m,\u001b[49m\u001b[43mlabels\u001b[49m\u001b[38;5;241;43m=\u001b[39;49m\u001b[43m[\u001b[49m\u001b[38;5;124;43m'\u001b[39;49m\u001b[38;5;124;43mham,spam\u001b[39;49m\u001b[38;5;124;43m'\u001b[39;49m\u001b[43m]\u001b[49m\u001b[43m,\u001b[49m\u001b[43mautopct\u001b[49m\u001b[38;5;241;43m=\u001b[39;49m\u001b[38;5;124;43m\"\u001b[39;49m\u001b[38;5;132;43;01m%0.2f\u001b[39;49;00m\u001b[38;5;124;43m\"\u001b[39;49m\u001b[43m)\u001b[49m\n\u001b[0;32m      3\u001b[0m plt\u001b[38;5;241m.\u001b[39mshow()\n",
      "File \u001b[1;32mc:\\Users\\ritik\\anaconda3\\envs\\sms\\lib\\site-packages\\matplotlib\\pyplot.py:3762\u001b[0m, in \u001b[0;36mpie\u001b[1;34m(x, explode, labels, colors, autopct, pctdistance, shadow, labeldistance, startangle, radius, counterclock, wedgeprops, textprops, center, frame, rotatelabels, normalize, hatch, data)\u001b[0m\n\u001b[0;32m   3739\u001b[0m \u001b[38;5;129m@_copy_docstring_and_deprecators\u001b[39m(Axes\u001b[38;5;241m.\u001b[39mpie)\n\u001b[0;32m   3740\u001b[0m \u001b[38;5;28;01mdef\u001b[39;00m\u001b[38;5;250m \u001b[39m\u001b[38;5;21mpie\u001b[39m(\n\u001b[0;32m   3741\u001b[0m     x: ArrayLike,\n\u001b[1;32m   (...)\u001b[0m\n\u001b[0;32m   3760\u001b[0m     data\u001b[38;5;241m=\u001b[39m\u001b[38;5;28;01mNone\u001b[39;00m,\n\u001b[0;32m   3761\u001b[0m ) \u001b[38;5;241m-\u001b[39m\u001b[38;5;241m>\u001b[39m \u001b[38;5;28mtuple\u001b[39m[\u001b[38;5;28mlist\u001b[39m[Wedge], \u001b[38;5;28mlist\u001b[39m[Text]] \u001b[38;5;241m|\u001b[39m \u001b[38;5;28mtuple\u001b[39m[\u001b[38;5;28mlist\u001b[39m[Wedge], \u001b[38;5;28mlist\u001b[39m[Text], \u001b[38;5;28mlist\u001b[39m[Text]]:\n\u001b[1;32m-> 3762\u001b[0m     \u001b[38;5;28;01mreturn\u001b[39;00m gca()\u001b[38;5;241m.\u001b[39mpie(\n\u001b[0;32m   3763\u001b[0m         x,\n\u001b[0;32m   3764\u001b[0m         explode\u001b[38;5;241m=\u001b[39mexplode,\n\u001b[0;32m   3765\u001b[0m         labels\u001b[38;5;241m=\u001b[39mlabels,\n\u001b[0;32m   3766\u001b[0m         colors\u001b[38;5;241m=\u001b[39mcolors,\n\u001b[0;32m   3767\u001b[0m         autopct\u001b[38;5;241m=\u001b[39mautopct,\n\u001b[0;32m   3768\u001b[0m         pctdistance\u001b[38;5;241m=\u001b[39mpctdistance,\n\u001b[0;32m   3769\u001b[0m         shadow\u001b[38;5;241m=\u001b[39mshadow,\n\u001b[0;32m   3770\u001b[0m         labeldistance\u001b[38;5;241m=\u001b[39mlabeldistance,\n\u001b[0;32m   3771\u001b[0m         startangle\u001b[38;5;241m=\u001b[39mstartangle,\n\u001b[0;32m   3772\u001b[0m         radius\u001b[38;5;241m=\u001b[39mradius,\n\u001b[0;32m   3773\u001b[0m         counterclock\u001b[38;5;241m=\u001b[39mcounterclock,\n\u001b[0;32m   3774\u001b[0m         wedgeprops\u001b[38;5;241m=\u001b[39mwedgeprops,\n\u001b[0;32m   3775\u001b[0m         textprops\u001b[38;5;241m=\u001b[39mtextprops,\n\u001b[0;32m   3776\u001b[0m         center\u001b[38;5;241m=\u001b[39mcenter,\n\u001b[0;32m   3777\u001b[0m         frame\u001b[38;5;241m=\u001b[39mframe,\n\u001b[0;32m   3778\u001b[0m         rotatelabels\u001b[38;5;241m=\u001b[39mrotatelabels,\n\u001b[0;32m   3779\u001b[0m         normalize\u001b[38;5;241m=\u001b[39mnormalize,\n\u001b[0;32m   3780\u001b[0m         hatch\u001b[38;5;241m=\u001b[39mhatch,\n\u001b[0;32m   3781\u001b[0m         \u001b[38;5;241m*\u001b[39m\u001b[38;5;241m*\u001b[39m({\u001b[38;5;124m\"\u001b[39m\u001b[38;5;124mdata\u001b[39m\u001b[38;5;124m\"\u001b[39m: data} \u001b[38;5;28;01mif\u001b[39;00m data \u001b[38;5;129;01mis\u001b[39;00m \u001b[38;5;129;01mnot\u001b[39;00m \u001b[38;5;28;01mNone\u001b[39;00m \u001b[38;5;28;01melse\u001b[39;00m {}),\n\u001b[0;32m   3782\u001b[0m     )\n",
      "File \u001b[1;32mc:\\Users\\ritik\\anaconda3\\envs\\sms\\lib\\site-packages\\matplotlib\\__init__.py:1476\u001b[0m, in \u001b[0;36m_preprocess_data.<locals>.inner\u001b[1;34m(ax, data, *args, **kwargs)\u001b[0m\n\u001b[0;32m   1473\u001b[0m \u001b[38;5;129m@functools\u001b[39m\u001b[38;5;241m.\u001b[39mwraps(func)\n\u001b[0;32m   1474\u001b[0m \u001b[38;5;28;01mdef\u001b[39;00m\u001b[38;5;250m \u001b[39m\u001b[38;5;21minner\u001b[39m(ax, \u001b[38;5;241m*\u001b[39margs, data\u001b[38;5;241m=\u001b[39m\u001b[38;5;28;01mNone\u001b[39;00m, \u001b[38;5;241m*\u001b[39m\u001b[38;5;241m*\u001b[39mkwargs):\n\u001b[0;32m   1475\u001b[0m     \u001b[38;5;28;01mif\u001b[39;00m data \u001b[38;5;129;01mis\u001b[39;00m \u001b[38;5;28;01mNone\u001b[39;00m:\n\u001b[1;32m-> 1476\u001b[0m         \u001b[38;5;28;01mreturn\u001b[39;00m func(\n\u001b[0;32m   1477\u001b[0m             ax,\n\u001b[0;32m   1478\u001b[0m             \u001b[38;5;241m*\u001b[39m\u001b[38;5;28mmap\u001b[39m(sanitize_sequence, args),\n\u001b[0;32m   1479\u001b[0m             \u001b[38;5;241m*\u001b[39m\u001b[38;5;241m*\u001b[39m{k: sanitize_sequence(v) \u001b[38;5;28;01mfor\u001b[39;00m k, v \u001b[38;5;129;01min\u001b[39;00m kwargs\u001b[38;5;241m.\u001b[39mitems()})\n\u001b[0;32m   1481\u001b[0m     bound \u001b[38;5;241m=\u001b[39m new_sig\u001b[38;5;241m.\u001b[39mbind(ax, \u001b[38;5;241m*\u001b[39margs, \u001b[38;5;241m*\u001b[39m\u001b[38;5;241m*\u001b[39mkwargs)\n\u001b[0;32m   1482\u001b[0m     auto_label \u001b[38;5;241m=\u001b[39m (bound\u001b[38;5;241m.\u001b[39marguments\u001b[38;5;241m.\u001b[39mget(label_namer)\n\u001b[0;32m   1483\u001b[0m                   \u001b[38;5;129;01mor\u001b[39;00m bound\u001b[38;5;241m.\u001b[39mkwargs\u001b[38;5;241m.\u001b[39mget(label_namer))\n",
      "File \u001b[1;32mc:\\Users\\ritik\\anaconda3\\envs\\sms\\lib\\site-packages\\matplotlib\\axes\\_axes.py:3298\u001b[0m, in \u001b[0;36mAxes.pie\u001b[1;34m(self, x, explode, labels, colors, autopct, pctdistance, shadow, labeldistance, startangle, radius, counterclock, wedgeprops, textprops, center, frame, rotatelabels, normalize, hatch)\u001b[0m\n\u001b[0;32m   3296\u001b[0m     explode \u001b[38;5;241m=\u001b[39m [\u001b[38;5;241m0\u001b[39m] \u001b[38;5;241m*\u001b[39m \u001b[38;5;28mlen\u001b[39m(x)\n\u001b[0;32m   3297\u001b[0m \u001b[38;5;28;01mif\u001b[39;00m \u001b[38;5;28mlen\u001b[39m(x) \u001b[38;5;241m!=\u001b[39m \u001b[38;5;28mlen\u001b[39m(labels):\n\u001b[1;32m-> 3298\u001b[0m     \u001b[38;5;28;01mraise\u001b[39;00m \u001b[38;5;167;01mValueError\u001b[39;00m(\u001b[38;5;124m\"\u001b[39m\u001b[38;5;124m'\u001b[39m\u001b[38;5;124mlabel\u001b[39m\u001b[38;5;124m'\u001b[39m\u001b[38;5;124m must be of length \u001b[39m\u001b[38;5;124m'\u001b[39m\u001b[38;5;124mx\u001b[39m\u001b[38;5;124m'\u001b[39m\u001b[38;5;124m\"\u001b[39m)\n\u001b[0;32m   3299\u001b[0m \u001b[38;5;28;01mif\u001b[39;00m \u001b[38;5;28mlen\u001b[39m(x) \u001b[38;5;241m!=\u001b[39m \u001b[38;5;28mlen\u001b[39m(explode):\n\u001b[0;32m   3300\u001b[0m     \u001b[38;5;28;01mraise\u001b[39;00m \u001b[38;5;167;01mValueError\u001b[39;00m(\u001b[38;5;124m\"\u001b[39m\u001b[38;5;124m'\u001b[39m\u001b[38;5;124mexplode\u001b[39m\u001b[38;5;124m'\u001b[39m\u001b[38;5;124m must be of length \u001b[39m\u001b[38;5;124m'\u001b[39m\u001b[38;5;124mx\u001b[39m\u001b[38;5;124m'\u001b[39m\u001b[38;5;124m\"\u001b[39m)\n",
      "\u001b[1;31mValueError\u001b[0m: 'label' must be of length 'x'"
     ]
    },
    {
     "data": {
      "image/png": "[encoded data removed]",
      "text/plain": [
       "<Figure size 640x480 with 1 Axes>"
      ]
     },
     "metadata": {},
     "output_type": "display_data"
    }
   ],
   "source": [
    "#this work roperly on colab\n",
    "import matplotlib.pyplot as plt \n",
    "plt.pie(df['target'].value_counts(),labels=['ham,spam'],autopct=\"%0.2f\")\n",
    "plt.show()"
   ]
  },
  {
   "cell_type": "code",
   "execution_count": 22,
   "id": "4cd3dd0e",
   "metadata": {},
   "outputs": [
    {
     "name": "stdout",
     "output_type": "stream",
     "text": [
      "Collecting nltk\n",
      "  Using cached nltk-3.9.1-py3-none-any.whl.metadata (2.9 kB)\n",
      "Collecting click (from nltk)\n",
      "  Using cached click-8.1.8-py3-none-any.whl.metadata (2.3 kB)\n",
      "Requirement already satisfied: joblib in c:\\users\\ritik\\anaconda3\\envs\\sms\\lib\\site-packages (from nltk) (1.5.1)\n",
      "Collecting regex>=2021.8.3 (from nltk)\n",
      "  Downloading regex-2025.7.34-cp39-cp39-win_amd64.whl.metadata (41 kB)\n",
      "Collecting tqdm (from nltk)\n",
      "  Using cached tqdm-4.67.1-py3-none-any.whl.metadata (57 kB)\n",
      "Requirement already satisfied: colorama in c:\\users\\ritik\\anaconda3\\envs\\sms\\lib\\site-packages (from click->nltk) (0.4.6)\n",
      "Using cached nltk-3.9.1-py3-none-any.whl (1.5 MB)\n",
      "Downloading regex-2025.7.34-cp39-cp39-win_amd64.whl (276 kB)\n",
      "Using cached click-8.1.8-py3-none-any.whl (98 kB)\n",
      "Using cached tqdm-4.67.1-py3-none-any.whl (78 kB)\n",
      "Installing collected packages: tqdm, regex, click, nltk\n",
      "\n",
      "   ---------------------------------------- 0/4 [tqdm]\n",
      "   ---------- ----------------------------- 1/4 [regex]\n",
      "   ---------- ----------------------------- 1/4 [regex]\n",
      "   -------------------- ------------------- 2/4 [click]\n",
      "   ------------------------------ --------- 3/4 [nltk]\n",
      "   ------------------------------ --------- 3/4 [nltk]\n",
      "   ------------------------------ --------- 3/4 [nltk]\n",
      "   ------------------------------ --------- 3/4 [nltk]\n",
      "   ------------------------------ --------- 3/4 [nltk]\n",
      "   ------------------------------ --------- 3/4 [nltk]\n",
      "   ------------------------------ --------- 3/4 [nltk]\n",
      "   ------------------------------ --------- 3/4 [nltk]\n",
      "   ------------------------------ --------- 3/4 [nltk]\n",
      "   ------------------------------ --------- 3/4 [nltk]\n",
      "   ------------------------------ --------- 3/4 [nltk]\n",
      "   ------------------------------ --------- 3/4 [nltk]\n",
      "   ------------------------------ --------- 3/4 [nltk]\n",
      "   ------------------------------ --------- 3/4 [nltk]\n",
      "   ------------------------------ --------- 3/4 [nltk]\n",
      "   ------------------------------ --------- 3/4 [nltk]\n",
      "   ------------------------------ --------- 3/4 [nltk]\n",
      "   ------------------------------ --------- 3/4 [nltk]\n",
      "   ------------------------------ --------- 3/4 [nltk]\n",
      "   ---------------------------------------- 4/4 [nltk]\n",
      "\n",
      "Successfully installed click-8.1.8 nltk-3.9.1 regex-2025.7.34 tqdm-4.67.1\n"
     ]
    }
   ],
   "source": [
    "!pip install nltk"
   ]
  },
  {
   "cell_type": "code",
   "execution_count": 23,
   "id": "0eb2caf9",
   "metadata": {},
   "outputs": [
    {
     "name": "stderr",
     "output_type": "stream",
     "text": [
      "[nltk_data] Downloading package punkt_tab to\n",
      "[nltk_data]     C:\\Users\\ritik\\AppData\\Roaming\\nltk_data...\n",
      "[nltk_data]   Unzipping tokenizers\\punkt_tab.zip.\n"
     ]
    },
    {
     "data": {
      "text/plain": [
       "True"
      ]
     },
     "execution_count": 23,
     "metadata": {},
     "output_type": "execute_result"
    }
   ],
   "source": [
    "import nltk\n",
    "nltk.download(\"punkt_tab\")"
   ]
  },
  {
   "cell_type": "code",
   "execution_count": 24,
   "id": "7a46e5e5",
   "metadata": {},
   "outputs": [
    {
     "name": "stderr",
     "output_type": "stream",
     "text": [
      "C:\\Users\\ritik\\AppData\\Local\\Temp\\ipykernel_17088\\3309080630.py:1: SettingWithCopyWarning: \n",
      "A value is trying to be set on a copy of a slice from a DataFrame.\n",
      "Try using .loc[row_indexer,col_indexer] = value instead\n",
      "\n",
      "See the caveats in the documentation: https://pandas.pydata.org/pandas-docs/stable/user_guide/indexing.html#returning-a-view-versus-a-copy\n",
      "  df[\"num_characters\"]=df[\"text\"].apply(len)\n"
     ]
    }
   ],
   "source": [
    "df[\"num_characters\"]=df[\"text\"].apply(len)"
   ]
  },
  {
   "cell_type": "code",
   "execution_count": 25,
   "id": "124be9e1",
   "metadata": {},
   "outputs": [
    {
     "data": {
      "text/html": [
       "<div>\n",
       "<style scoped>\n",
       "    .dataframe tbody tr th:only-of-type {\n",
       "        vertical-align: middle;\n",
       "    }\n",
       "\n",
       "    .dataframe tbody tr th {\n",
       "        vertical-align: top;\n",
       "    }\n",
       "\n",
       "    .dataframe thead th {\n",
       "        text-align: right;\n",
       "    }\n",
       "</style>\n",
       "<table border=\"1\" class=\"dataframe\">\n",
       "  <thead>\n",
       "    <tr style=\"text-align: right;\">\n",
       "      <th></th>\n",
       "      <th>target</th>\n",
       "      <th>text</th>\n",
       "      <th>num_characters</th>\n",
       "    </tr>\n",
       "  </thead>\n",
       "  <tbody>\n",
       "    <tr>\n",
       "      <th>0</th>\n",
       "      <td>0</td>\n",
       "      <td>Go until jurong point, crazy.. Available only ...</td>\n",
       "      <td>111</td>\n",
       "    </tr>\n",
       "    <tr>\n",
       "      <th>1</th>\n",
       "      <td>0</td>\n",
       "      <td>Ok lar... Joking wif u oni...</td>\n",
       "      <td>29</td>\n",
       "    </tr>\n",
       "    <tr>\n",
       "      <th>2</th>\n",
       "      <td>1</td>\n",
       "      <td>Free entry in 2 a wkly comp to win FA Cup fina...</td>\n",
       "      <td>155</td>\n",
       "    </tr>\n",
       "    <tr>\n",
       "      <th>3</th>\n",
       "      <td>0</td>\n",
       "      <td>U dun say so early hor... U c already then say...</td>\n",
       "      <td>49</td>\n",
       "    </tr>\n",
       "    <tr>\n",
       "      <th>4</th>\n",
       "      <td>0</td>\n",
       "      <td>Nah I don't think he goes to usf, he lives aro...</td>\n",
       "      <td>61</td>\n",
       "    </tr>\n",
       "  </tbody>\n",
       "</table>\n",
       "</div>"
      ],
      "text/plain": [
       "   target                                               text  num_characters\n",
       "0       0  Go until jurong point, crazy.. Available only ...             111\n",
       "1       0                      Ok lar... Joking wif u oni...              29\n",
       "2       1  Free entry in 2 a wkly comp to win FA Cup fina...             155\n",
       "3       0  U dun say so early hor... U c already then say...              49\n",
       "4       0  Nah I don't think he goes to usf, he lives aro...              61"
      ]
     },
     "execution_count": 25,
     "metadata": {},
     "output_type": "execute_result"
    }
   ],
   "source": [
    "df.head()"
   ]
  },
  {
   "cell_type": "code",
   "execution_count": 27,
   "id": "498109dd",
   "metadata": {},
   "outputs": [
    {
     "name": "stderr",
     "output_type": "stream",
     "text": [
      "C:\\Users\\ritik\\AppData\\Local\\Temp\\ipykernel_17088\\1118471538.py:1: SettingWithCopyWarning: \n",
      "A value is trying to be set on a copy of a slice from a DataFrame.\n",
      "Try using .loc[row_indexer,col_indexer] = value instead\n",
      "\n",
      "See the caveats in the documentation: https://pandas.pydata.org/pandas-docs/stable/user_guide/indexing.html#returning-a-view-versus-a-copy\n",
      "  df['num_words']=df['text'].apply(lambda x:len(nltk.word_tokenize(x)))\n"
     ]
    }
   ],
   "source": [
    "df['num_words']=df['text'].apply(lambda x:len(nltk.word_tokenize(x)))"
   ]
  },
  {
   "cell_type": "code",
   "execution_count": 28,
   "id": "4a5afb39",
   "metadata": {},
   "outputs": [
    {
     "data": {
      "text/html": [
       "<div>\n",
       "<style scoped>\n",
       "    .dataframe tbody tr th:only-of-type {\n",
       "        vertical-align: middle;\n",
       "    }\n",
       "\n",
       "    .dataframe tbody tr th {\n",
       "        vertical-align: top;\n",
       "    }\n",
       "\n",
       "    .dataframe thead th {\n",
       "        text-align: right;\n",
       "    }\n",
       "</style>\n",
       "<table border=\"1\" class=\"dataframe\">\n",
       "  <thead>\n",
       "    <tr style=\"text-align: right;\">\n",
       "      <th></th>\n",
       "      <th>target</th>\n",
       "      <th>text</th>\n",
       "      <th>num_characters</th>\n",
       "      <th>num_words</th>\n",
       "    </tr>\n",
       "  </thead>\n",
       "  <tbody>\n",
       "    <tr>\n",
       "      <th>0</th>\n",
       "      <td>0</td>\n",
       "      <td>Go until jurong point, crazy.. Available only ...</td>\n",
       "      <td>111</td>\n",
       "      <td>24</td>\n",
       "    </tr>\n",
       "    <tr>\n",
       "      <th>1</th>\n",
       "      <td>0</td>\n",
       "      <td>Ok lar... Joking wif u oni...</td>\n",
       "      <td>29</td>\n",
       "      <td>8</td>\n",
       "    </tr>\n",
       "    <tr>\n",
       "      <th>2</th>\n",
       "      <td>1</td>\n",
       "      <td>Free entry in 2 a wkly comp to win FA Cup fina...</td>\n",
       "      <td>155</td>\n",
       "      <td>37</td>\n",
       "    </tr>\n",
       "    <tr>\n",
       "      <th>3</th>\n",
       "      <td>0</td>\n",
       "      <td>U dun say so early hor... U c already then say...</td>\n",
       "      <td>49</td>\n",
       "      <td>13</td>\n",
       "    </tr>\n",
       "    <tr>\n",
       "      <th>4</th>\n",
       "      <td>0</td>\n",
       "      <td>Nah I don't think he goes to usf, he lives aro...</td>\n",
       "      <td>61</td>\n",
       "      <td>15</td>\n",
       "    </tr>\n",
       "  </tbody>\n",
       "</table>\n",
       "</div>"
      ],
      "text/plain": [
       "   target                                               text  num_characters  \\\n",
       "0       0  Go until jurong point, crazy.. Available only ...             111   \n",
       "1       0                      Ok lar... Joking wif u oni...              29   \n",
       "2       1  Free entry in 2 a wkly comp to win FA Cup fina...             155   \n",
       "3       0  U dun say so early hor... U c already then say...              49   \n",
       "4       0  Nah I don't think he goes to usf, he lives aro...              61   \n",
       "\n",
       "   num_words  \n",
       "0         24  \n",
       "1          8  \n",
       "2         37  \n",
       "3         13  \n",
       "4         15  "
      ]
     },
     "execution_count": 28,
     "metadata": {},
     "output_type": "execute_result"
    }
   ],
   "source": [
    "df.head()"
   ]
  },
  {
   "cell_type": "code",
   "execution_count": 29,
   "id": "8781570f",
   "metadata": {},
   "outputs": [
    {
     "name": "stderr",
     "output_type": "stream",
     "text": [
      "C:\\Users\\ritik\\AppData\\Local\\Temp\\ipykernel_17088\\4263227907.py:1: SettingWithCopyWarning: \n",
      "A value is trying to be set on a copy of a slice from a DataFrame.\n",
      "Try using .loc[row_indexer,col_indexer] = value instead\n",
      "\n",
      "See the caveats in the documentation: https://pandas.pydata.org/pandas-docs/stable/user_guide/indexing.html#returning-a-view-versus-a-copy\n",
      "  df[\"num_sentences\"]=df[\"text\"].apply(lambda x:len(nltk.sent_tokenize(x)))\n"
     ]
    }
   ],
   "source": [
    "df[\"num_sentences\"]=df[\"text\"].apply(lambda x:len(nltk.sent_tokenize(x)))"
   ]
  },
  {
   "cell_type": "code",
   "execution_count": 30,
   "id": "0647f276",
   "metadata": {},
   "outputs": [
    {
     "data": {
      "text/html": [
       "<div>\n",
       "<style scoped>\n",
       "    .dataframe tbody tr th:only-of-type {\n",
       "        vertical-align: middle;\n",
       "    }\n",
       "\n",
       "    .dataframe tbody tr th {\n",
       "        vertical-align: top;\n",
       "    }\n",
       "\n",
       "    .dataframe thead th {\n",
       "        text-align: right;\n",
       "    }\n",
       "</style>\n",
       "<table border=\"1\" class=\"dataframe\">\n",
       "  <thead>\n",
       "    <tr style=\"text-align: right;\">\n",
       "      <th></th>\n",
       "      <th>target</th>\n",
       "      <th>text</th>\n",
       "      <th>num_characters</th>\n",
       "      <th>num_words</th>\n",
       "      <th>num_sentences</th>\n",
       "    </tr>\n",
       "  </thead>\n",
       "  <tbody>\n",
       "    <tr>\n",
       "      <th>0</th>\n",
       "      <td>0</td>\n",
       "      <td>Go until jurong point, crazy.. Available only ...</td>\n",
       "      <td>111</td>\n",
       "      <td>24</td>\n",
       "      <td>2</td>\n",
       "    </tr>\n",
       "    <tr>\n",
       "      <th>1</th>\n",
       "      <td>0</td>\n",
       "      <td>Ok lar... Joking wif u oni...</td>\n",
       "      <td>29</td>\n",
       "      <td>8</td>\n",
       "      <td>2</td>\n",
       "    </tr>\n",
       "    <tr>\n",
       "      <th>2</th>\n",
       "      <td>1</td>\n",
       "      <td>Free entry in 2 a wkly comp to win FA Cup fina...</td>\n",
       "      <td>155</td>\n",
       "      <td>37</td>\n",
       "      <td>2</td>\n",
       "    </tr>\n",
       "    <tr>\n",
       "      <th>3</th>\n",
       "      <td>0</td>\n",
       "      <td>U dun say so early hor... U c already then say...</td>\n",
       "      <td>49</td>\n",
       "      <td>13</td>\n",
       "      <td>1</td>\n",
       "    </tr>\n",
       "    <tr>\n",
       "      <th>4</th>\n",
       "      <td>0</td>\n",
       "      <td>Nah I don't think he goes to usf, he lives aro...</td>\n",
       "      <td>61</td>\n",
       "      <td>15</td>\n",
       "      <td>1</td>\n",
       "    </tr>\n",
       "  </tbody>\n",
       "</table>\n",
       "</div>"
      ],
      "text/plain": [
       "   target                                               text  num_characters  \\\n",
       "0       0  Go until jurong point, crazy.. Available only ...             111   \n",
       "1       0                      Ok lar... Joking wif u oni...              29   \n",
       "2       1  Free entry in 2 a wkly comp to win FA Cup fina...             155   \n",
       "3       0  U dun say so early hor... U c already then say...              49   \n",
       "4       0  Nah I don't think he goes to usf, he lives aro...              61   \n",
       "\n",
       "   num_words  num_sentences  \n",
       "0         24              2  \n",
       "1          8              2  \n",
       "2         37              2  \n",
       "3         13              1  \n",
       "4         15              1  "
      ]
     },
     "execution_count": 30,
     "metadata": {},
     "output_type": "execute_result"
    }
   ],
   "source": [
    "df.head()"
   ]
  },
  {
   "cell_type": "code",
   "execution_count": null,
   "id": "25dc5954",
   "metadata": {},
   "outputs": [],
   "source": []
  },
  {
   "cell_type": "markdown",
   "id": "112167a9",
   "metadata": {},
   "source": [
    "#Data PreProcessing \n",
    "\n",
    "1.lowercase\n",
    "2.tokenizer\n",
    "3.remove special char\n",
    "4.stopword removal\n",
    "5.puncuatiin\n",
    "6.stemming\n"
   ]
  },
  {
   "cell_type": "code",
   "execution_count": 34,
   "id": "e59d8a80",
   "metadata": {},
   "outputs": [
    {
     "name": "stderr",
     "output_type": "stream",
     "text": [
      "[nltk_data] Downloading package stopwords to\n",
      "[nltk_data]     C:\\Users\\ritik\\AppData\\Roaming\\nltk_data...\n",
      "[nltk_data]   Package stopwords is already up-to-date!\n"
     ]
    },
    {
     "data": {
      "text/plain": [
       "True"
      ]
     },
     "execution_count": 34,
     "metadata": {},
     "output_type": "execute_result"
    }
   ],
   "source": [
    "from nltk.stem.porter import PorterStemmer\n",
    "ps=PorterStemmer()\n",
    "from nltk.corpus import stopwords\n",
    "nltk.download(\"stopwords\")"
   ]
  },
  {
   "cell_type": "code",
   "execution_count": 32,
   "id": "2bb32064",
   "metadata": {},
   "outputs": [],
   "source": [
    "import string "
   ]
  },
  {
   "cell_type": "code",
   "execution_count": 47,
   "id": "3f2ee8d4",
   "metadata": {},
   "outputs": [],
   "source": [
    "def transform_text(text):\n",
    "    text=text.lower()\n",
    "    text=nltk.word_tokenize(text)\n",
    "\n",
    "    y=[]\n",
    "    for i in text:\n",
    "        if i.isalnum():\n",
    "            y.append(i)\n",
    "    \n",
    "    text=y[:]\n",
    "\n",
    "    y.clear()\n",
    "    for i in text:\n",
    "        if i not in stopwords.words(\"english\") and i not in string.punctuation:\n",
    "            y.append(i)\n",
    "\n",
    "        text=y[:]\n",
    "    y.clear()\n",
    "\n",
    "    for i in text:\n",
    "        y.append(ps.stem(i))\n",
    "        \n",
    "    return \" \".join(y)"
   ]
  },
  {
   "cell_type": "code",
   "execution_count": 48,
   "id": "b300116e",
   "metadata": {},
   "outputs": [
    {
     "name": "stdout",
     "output_type": "stream",
     "text": [
      "defin student tell us classifc\n"
     ]
    }
   ],
   "source": [
    "print(transform_text(\"define how to students tell us classifcation about each other\"))"
   ]
  },
  {
   "cell_type": "code",
   "execution_count": 49,
   "id": "c8a641f2",
   "metadata": {},
   "outputs": [
    {
     "name": "stderr",
     "output_type": "stream",
     "text": [
      "C:\\Users\\ritik\\AppData\\Local\\Temp\\ipykernel_17088\\3817822910.py:1: SettingWithCopyWarning: \n",
      "A value is trying to be set on a copy of a slice from a DataFrame.\n",
      "Try using .loc[row_indexer,col_indexer] = value instead\n",
      "\n",
      "See the caveats in the documentation: https://pandas.pydata.org/pandas-docs/stable/user_guide/indexing.html#returning-a-view-versus-a-copy\n",
      "  df[\"tranform_text\"]=df[\"text\"].apply(transform_text)\n"
     ]
    }
   ],
   "source": [
    "df[\"tranform_text\"]=df[\"text\"].apply(transform_text)"
   ]
  },
  {
   "cell_type": "code",
   "execution_count": 50,
   "id": "676e61d2",
   "metadata": {},
   "outputs": [
    {
     "data": {
      "text/html": [
       "<div>\n",
       "<style scoped>\n",
       "    .dataframe tbody tr th:only-of-type {\n",
       "        vertical-align: middle;\n",
       "    }\n",
       "\n",
       "    .dataframe tbody tr th {\n",
       "        vertical-align: top;\n",
       "    }\n",
       "\n",
       "    .dataframe thead th {\n",
       "        text-align: right;\n",
       "    }\n",
       "</style>\n",
       "<table border=\"1\" class=\"dataframe\">\n",
       "  <thead>\n",
       "    <tr style=\"text-align: right;\">\n",
       "      <th></th>\n",
       "      <th>target</th>\n",
       "      <th>text</th>\n",
       "      <th>num_characters</th>\n",
       "      <th>num_words</th>\n",
       "      <th>num_sentences</th>\n",
       "      <th>tranform_text</th>\n",
       "    </tr>\n",
       "  </thead>\n",
       "  <tbody>\n",
       "    <tr>\n",
       "      <th>0</th>\n",
       "      <td>0</td>\n",
       "      <td>Go until jurong point, crazy.. Available only ...</td>\n",
       "      <td>111</td>\n",
       "      <td>24</td>\n",
       "      <td>2</td>\n",
       "      <td>go jurong point crazi avail bugi n great world...</td>\n",
       "    </tr>\n",
       "    <tr>\n",
       "      <th>1</th>\n",
       "      <td>0</td>\n",
       "      <td>Ok lar... Joking wif u oni...</td>\n",
       "      <td>29</td>\n",
       "      <td>8</td>\n",
       "      <td>2</td>\n",
       "      <td>ok lar joke wif u oni</td>\n",
       "    </tr>\n",
       "    <tr>\n",
       "      <th>2</th>\n",
       "      <td>1</td>\n",
       "      <td>Free entry in 2 a wkly comp to win FA Cup fina...</td>\n",
       "      <td>155</td>\n",
       "      <td>37</td>\n",
       "      <td>2</td>\n",
       "      <td>free entri 2 wkli comp win fa cup final tkt 21...</td>\n",
       "    </tr>\n",
       "    <tr>\n",
       "      <th>3</th>\n",
       "      <td>0</td>\n",
       "      <td>U dun say so early hor... U c already then say...</td>\n",
       "      <td>49</td>\n",
       "      <td>13</td>\n",
       "      <td>1</td>\n",
       "      <td>u dun say earli hor u c alreadi say</td>\n",
       "    </tr>\n",
       "    <tr>\n",
       "      <th>4</th>\n",
       "      <td>0</td>\n",
       "      <td>Nah I don't think he goes to usf, he lives aro...</td>\n",
       "      <td>61</td>\n",
       "      <td>15</td>\n",
       "      <td>1</td>\n",
       "      <td>nah think goe usf live around though</td>\n",
       "    </tr>\n",
       "  </tbody>\n",
       "</table>\n",
       "</div>"
      ],
      "text/plain": [
       "   target                                               text  num_characters  \\\n",
       "0       0  Go until jurong point, crazy.. Available only ...             111   \n",
       "1       0                      Ok lar... Joking wif u oni...              29   \n",
       "2       1  Free entry in 2 a wkly comp to win FA Cup fina...             155   \n",
       "3       0  U dun say so early hor... U c already then say...              49   \n",
       "4       0  Nah I don't think he goes to usf, he lives aro...              61   \n",
       "\n",
       "   num_words  num_sentences                                      tranform_text  \n",
       "0         24              2  go jurong point crazi avail bugi n great world...  \n",
       "1          8              2                              ok lar joke wif u oni  \n",
       "2         37              2  free entri 2 wkli comp win fa cup final tkt 21...  \n",
       "3         13              1                u dun say earli hor u c alreadi say  \n",
       "4         15              1               nah think goe usf live around though  "
      ]
     },
     "execution_count": 50,
     "metadata": {},
     "output_type": "execute_result"
    }
   ],
   "source": [
    "df.head()"
   ]
  },
  {
   "cell_type": "markdown",
   "id": "a0324e85",
   "metadata": {},
   "source": [
    "#Model Building "
   ]
  },
  {
   "cell_type": "code",
   "execution_count": 51,
   "id": "9c055781",
   "metadata": {},
   "outputs": [],
   "source": [
    "from sklearn.feature_extraction.text import CountVectorizer,TfidfVectorizer\n",
    "\n",
    "cv=CountVectorizer()\n",
    "tfidf=TfidfVectorizer()\n",
    "\n"
   ]
  },
  {
   "cell_type": "code",
   "execution_count": 56,
   "id": "0024473e",
   "metadata": {},
   "outputs": [],
   "source": [
    "x=tfidf.fit_transform(df['tranform_text']).toarray()\n",
    "\n",
    "y=df[\"target\"].values\n"
   ]
  },
  {
   "cell_type": "code",
   "execution_count": 58,
   "id": "c3df115e",
   "metadata": {},
   "outputs": [],
   "source": [
    "from sklearn.model_selection import train_test_split\n",
    "x_train,x_test,y_train,y_test=train_test_split(x,y,test_size=0.2,random_state=1)\n"
   ]
  },
  {
   "cell_type": "code",
   "execution_count": 59,
   "id": "a9f2fb7a",
   "metadata": {},
   "outputs": [],
   "source": [
    "from sklearn.naive_bayes import GaussianNB,MultinomialNB,BernoulliNB\n",
    "from sklearn.metrics import accuracy_score,confusion_matrix,precision_score"
   ]
  },
  {
   "cell_type": "code",
   "execution_count": 69,
   "id": "69cf116d",
   "metadata": {},
   "outputs": [
    {
     "name": "stdout",
     "output_type": "stream",
     "text": [
      "0.8607350096711799\n",
      "[[778 121]\n",
      " [ 23 112]]\n",
      "0.48068669527896996\n"
     ]
    }
   ],
   "source": [
    "gnb=GaussianNB()\n",
    "gnb.fit(x_train,y_train)\n",
    "y_pred=gnb.predict(x_test)\n",
    "print(accuracy_score(y_test,y_pred))\n",
    "print(confusion_matrix(y_test,y_pred))\n",
    "print(precision_score(y_test,y_pred))"
   ]
  },
  {
   "cell_type": "code",
   "execution_count": 74,
   "id": "ca53807b",
   "metadata": {},
   "outputs": [
    {
     "name": "stdout",
     "output_type": "stream",
     "text": [
      "0.9535783365570599\n",
      "[[894   5]\n",
      " [ 43  92]]\n",
      "0.9484536082474226\n"
     ]
    }
   ],
   "source": [
    "mnb=MultinomialNB()\n",
    "mnb.fit(x_train,y_train)\n",
    "y_pred=gnb.predict(x_test)\n",
    "print(accuracy_score(y_test,y_pred))\n",
    "print(confusion_matrix(y_test,y_pred))\n",
    "print(precision_score(y_test,y_pred))"
   ]
  },
  {
   "cell_type": "code",
   "execution_count": 73,
   "id": "c272e858",
   "metadata": {},
   "outputs": [
    {
     "name": "stdout",
     "output_type": "stream",
     "text": [
      "0.9535783365570599\n",
      "[[894   5]\n",
      " [ 43  92]]\n",
      "0.9484536082474226\n"
     ]
    }
   ],
   "source": [
    "bnb=BernoulliNB()\n",
    "bnb.fit(x_train,y_train)\n",
    "y_pred=gnb.predict(x_test)\n",
    "print(accuracy_score(y_test,y_pred))\n",
    "print(confusion_matrix(y_test,y_pred))\n",
    "print(precision_score(y_test,y_pred))"
   ]
  },
  {
   "cell_type": "code",
   "execution_count": 79,
   "id": "5fb30839",
   "metadata": {},
   "outputs": [],
   "source": [
    "import pickle\n",
    "pickle.dump(tfidf,open(\"vector.pkl\",'wb'))\n",
    "pickle.dump(mnb,open(\"model.pkl\",'wb'))"
   ]
  },
  {
   "cell_type": "code",
   "execution_count": null,
   "id": "37ae0a35",
   "metadata": {},
   "outputs": [],
   "source": []
  }
 ],
 "metadata": {
  "kernelspec": {
   "display_name": "sms",
   "language": "python",
   "name": "python3"
  },
  "language_info": {
   "codemirror_mode": {
    "name": "ipython",
    "version": 3
   },
   "file_extension": ".py",
   "mimetype": "text/x-python",
   "name": "python",
   "nbconvert_exporter": "python",
   "pygments_lexer": "ipython3",
   "version": "3.9.23"
  }
 },
 "nbformat": 4,
 "nbformat_minor": 5
}
